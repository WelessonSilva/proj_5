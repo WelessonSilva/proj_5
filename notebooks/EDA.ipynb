{
 "cells": [
  {
   "cell_type": "code",
   "execution_count": 1,
   "id": "c5bb033c",
   "metadata": {},
   "outputs": [],
   "source": [
    "# Importando as bibliotecas necessárias \n",
    "import pandas as pd \n",
    "import plotly_express as px\n",
    "import streamlit as st"
   ]
  },
  {
   "cell_type": "code",
   "execution_count": 2,
   "id": "3e718298",
   "metadata": {},
   "outputs": [],
   "source": [
    "df_car = pd.read_csv('../vehicles.csv') # Lendo os dados"
   ]
  },
  {
   "cell_type": "code",
   "execution_count": 3,
   "id": "009e8df1",
   "metadata": {},
   "outputs": [
    {
     "data": {
      "application/vnd.microsoft.datawrangler.viewer.v0+json": {
       "columns": [
        {
         "name": "index",
         "rawType": "int64",
         "type": "integer"
        },
        {
         "name": "price",
         "rawType": "int64",
         "type": "integer"
        },
        {
         "name": "model_year",
         "rawType": "float64",
         "type": "float"
        },
        {
         "name": "model",
         "rawType": "object",
         "type": "string"
        },
        {
         "name": "condition",
         "rawType": "object",
         "type": "string"
        },
        {
         "name": "cylinders",
         "rawType": "float64",
         "type": "float"
        },
        {
         "name": "fuel",
         "rawType": "object",
         "type": "string"
        },
        {
         "name": "odometer",
         "rawType": "float64",
         "type": "float"
        },
        {
         "name": "transmission",
         "rawType": "object",
         "type": "string"
        },
        {
         "name": "type",
         "rawType": "object",
         "type": "string"
        },
        {
         "name": "paint_color",
         "rawType": "object",
         "type": "unknown"
        },
        {
         "name": "is_4wd",
         "rawType": "float64",
         "type": "float"
        },
        {
         "name": "date_posted",
         "rawType": "object",
         "type": "string"
        },
        {
         "name": "days_listed",
         "rawType": "int64",
         "type": "integer"
        }
       ],
       "ref": "58c84ff1-1c82-483c-acbe-fc9004b23762",
       "rows": [
        [
         "0",
         "9400",
         "2011.0",
         "bmw x5",
         "good",
         "6.0",
         "gas",
         "145000.0",
         "automatic",
         "SUV",
         null,
         "1.0",
         "2018-06-23",
         "19"
        ],
        [
         "1",
         "25500",
         null,
         "ford f-150",
         "good",
         "6.0",
         "gas",
         "88705.0",
         "automatic",
         "pickup",
         "white",
         "1.0",
         "2018-10-19",
         "50"
        ],
        [
         "2",
         "5500",
         "2013.0",
         "hyundai sonata",
         "like new",
         "4.0",
         "gas",
         "110000.0",
         "automatic",
         "sedan",
         "red",
         null,
         "2019-02-07",
         "79"
        ],
        [
         "3",
         "1500",
         "2003.0",
         "ford f-150",
         "fair",
         "8.0",
         "gas",
         null,
         "automatic",
         "pickup",
         null,
         null,
         "2019-03-22",
         "9"
        ],
        [
         "4",
         "14900",
         "2017.0",
         "chrysler 200",
         "excellent",
         "4.0",
         "gas",
         "80903.0",
         "automatic",
         "sedan",
         "black",
         null,
         "2019-04-02",
         "28"
        ]
       ],
       "shape": {
        "columns": 13,
        "rows": 5
       }
      },
      "text/html": [
       "<div>\n",
       "<style scoped>\n",
       "    .dataframe tbody tr th:only-of-type {\n",
       "        vertical-align: middle;\n",
       "    }\n",
       "\n",
       "    .dataframe tbody tr th {\n",
       "        vertical-align: top;\n",
       "    }\n",
       "\n",
       "    .dataframe thead th {\n",
       "        text-align: right;\n",
       "    }\n",
       "</style>\n",
       "<table border=\"1\" class=\"dataframe\">\n",
       "  <thead>\n",
       "    <tr style=\"text-align: right;\">\n",
       "      <th></th>\n",
       "      <th>price</th>\n",
       "      <th>model_year</th>\n",
       "      <th>model</th>\n",
       "      <th>condition</th>\n",
       "      <th>cylinders</th>\n",
       "      <th>fuel</th>\n",
       "      <th>odometer</th>\n",
       "      <th>transmission</th>\n",
       "      <th>type</th>\n",
       "      <th>paint_color</th>\n",
       "      <th>is_4wd</th>\n",
       "      <th>date_posted</th>\n",
       "      <th>days_listed</th>\n",
       "    </tr>\n",
       "  </thead>\n",
       "  <tbody>\n",
       "    <tr>\n",
       "      <th>0</th>\n",
       "      <td>9400</td>\n",
       "      <td>2011.0</td>\n",
       "      <td>bmw x5</td>\n",
       "      <td>good</td>\n",
       "      <td>6.0</td>\n",
       "      <td>gas</td>\n",
       "      <td>145000.0</td>\n",
       "      <td>automatic</td>\n",
       "      <td>SUV</td>\n",
       "      <td>NaN</td>\n",
       "      <td>1.0</td>\n",
       "      <td>2018-06-23</td>\n",
       "      <td>19</td>\n",
       "    </tr>\n",
       "    <tr>\n",
       "      <th>1</th>\n",
       "      <td>25500</td>\n",
       "      <td>NaN</td>\n",
       "      <td>ford f-150</td>\n",
       "      <td>good</td>\n",
       "      <td>6.0</td>\n",
       "      <td>gas</td>\n",
       "      <td>88705.0</td>\n",
       "      <td>automatic</td>\n",
       "      <td>pickup</td>\n",
       "      <td>white</td>\n",
       "      <td>1.0</td>\n",
       "      <td>2018-10-19</td>\n",
       "      <td>50</td>\n",
       "    </tr>\n",
       "    <tr>\n",
       "      <th>2</th>\n",
       "      <td>5500</td>\n",
       "      <td>2013.0</td>\n",
       "      <td>hyundai sonata</td>\n",
       "      <td>like new</td>\n",
       "      <td>4.0</td>\n",
       "      <td>gas</td>\n",
       "      <td>110000.0</td>\n",
       "      <td>automatic</td>\n",
       "      <td>sedan</td>\n",
       "      <td>red</td>\n",
       "      <td>NaN</td>\n",
       "      <td>2019-02-07</td>\n",
       "      <td>79</td>\n",
       "    </tr>\n",
       "    <tr>\n",
       "      <th>3</th>\n",
       "      <td>1500</td>\n",
       "      <td>2003.0</td>\n",
       "      <td>ford f-150</td>\n",
       "      <td>fair</td>\n",
       "      <td>8.0</td>\n",
       "      <td>gas</td>\n",
       "      <td>NaN</td>\n",
       "      <td>automatic</td>\n",
       "      <td>pickup</td>\n",
       "      <td>NaN</td>\n",
       "      <td>NaN</td>\n",
       "      <td>2019-03-22</td>\n",
       "      <td>9</td>\n",
       "    </tr>\n",
       "    <tr>\n",
       "      <th>4</th>\n",
       "      <td>14900</td>\n",
       "      <td>2017.0</td>\n",
       "      <td>chrysler 200</td>\n",
       "      <td>excellent</td>\n",
       "      <td>4.0</td>\n",
       "      <td>gas</td>\n",
       "      <td>80903.0</td>\n",
       "      <td>automatic</td>\n",
       "      <td>sedan</td>\n",
       "      <td>black</td>\n",
       "      <td>NaN</td>\n",
       "      <td>2019-04-02</td>\n",
       "      <td>28</td>\n",
       "    </tr>\n",
       "  </tbody>\n",
       "</table>\n",
       "</div>"
      ],
      "text/plain": [
       "   price  model_year           model  condition  cylinders fuel  odometer  \\\n",
       "0   9400      2011.0          bmw x5       good        6.0  gas  145000.0   \n",
       "1  25500         NaN      ford f-150       good        6.0  gas   88705.0   \n",
       "2   5500      2013.0  hyundai sonata   like new        4.0  gas  110000.0   \n",
       "3   1500      2003.0      ford f-150       fair        8.0  gas       NaN   \n",
       "4  14900      2017.0    chrysler 200  excellent        4.0  gas   80903.0   \n",
       "\n",
       "  transmission    type paint_color  is_4wd date_posted  days_listed  \n",
       "0    automatic     SUV         NaN     1.0  2018-06-23           19  \n",
       "1    automatic  pickup       white     1.0  2018-10-19           50  \n",
       "2    automatic   sedan         red     NaN  2019-02-07           79  \n",
       "3    automatic  pickup         NaN     NaN  2019-03-22            9  \n",
       "4    automatic   sedan       black     NaN  2019-04-02           28  "
      ]
     },
     "execution_count": 3,
     "metadata": {},
     "output_type": "execute_result"
    }
   ],
   "source": [
    "df_car.head()"
   ]
  },
  {
   "cell_type": "code",
   "execution_count": 4,
   "id": "e7544de9",
   "metadata": {},
   "outputs": [
    {
     "name": "stdout",
     "output_type": "stream",
     "text": [
      "<class 'pandas.core.frame.DataFrame'>\n",
      "RangeIndex: 51525 entries, 0 to 51524\n",
      "Data columns (total 13 columns):\n",
      " #   Column        Non-Null Count  Dtype  \n",
      "---  ------        --------------  -----  \n",
      " 0   price         51525 non-null  int64  \n",
      " 1   model_year    47906 non-null  float64\n",
      " 2   model         51525 non-null  object \n",
      " 3   condition     51525 non-null  object \n",
      " 4   cylinders     46265 non-null  float64\n",
      " 5   fuel          51525 non-null  object \n",
      " 6   odometer      43633 non-null  float64\n",
      " 7   transmission  51525 non-null  object \n",
      " 8   type          51525 non-null  object \n",
      " 9   paint_color   42258 non-null  object \n",
      " 10  is_4wd        25572 non-null  float64\n",
      " 11  date_posted   51525 non-null  object \n",
      " 12  days_listed   51525 non-null  int64  \n",
      "dtypes: float64(4), int64(2), object(7)\n",
      "memory usage: 5.1+ MB\n"
     ]
    }
   ],
   "source": [
    "df_car.info() # Verificando os tipos de dados \n"
   ]
  },
  {
   "cell_type": "markdown",
   "id": "6b07caad",
   "metadata": {},
   "source": [
    "### Valores nulos nas colunas model_year, cylinders, odometer, paint_color e is_4wd, vou corrigir valores nulos e alterar o tipo da coluna date_posted para datetime"
   ]
  },
  {
   "cell_type": "code",
   "execution_count": 5,
   "id": "d7ee0b93",
   "metadata": {},
   "outputs": [
    {
     "data": {
      "application/vnd.microsoft.datawrangler.viewer.v0+json": {
       "columns": [
        {
         "name": "index",
         "rawType": "object",
         "type": "string"
        },
        {
         "name": "0",
         "rawType": "int64",
         "type": "integer"
        }
       ],
       "ref": "9a378fcf-ddd6-4a6c-aedc-7e66f9b60f9e",
       "rows": [
        [
         "price",
         "0"
        ],
        [
         "model_year",
         "3619"
        ],
        [
         "model",
         "0"
        ],
        [
         "condition",
         "0"
        ],
        [
         "cylinders",
         "5260"
        ],
        [
         "fuel",
         "0"
        ],
        [
         "odometer",
         "7892"
        ],
        [
         "transmission",
         "0"
        ],
        [
         "type",
         "0"
        ],
        [
         "paint_color",
         "9267"
        ],
        [
         "is_4wd",
         "25953"
        ],
        [
         "date_posted",
         "0"
        ],
        [
         "days_listed",
         "0"
        ]
       ],
       "shape": {
        "columns": 1,
        "rows": 13
       }
      },
      "text/plain": [
       "price               0\n",
       "model_year       3619\n",
       "model               0\n",
       "condition           0\n",
       "cylinders        5260\n",
       "fuel                0\n",
       "odometer         7892\n",
       "transmission        0\n",
       "type                0\n",
       "paint_color      9267\n",
       "is_4wd          25953\n",
       "date_posted         0\n",
       "days_listed         0\n",
       "dtype: int64"
      ]
     },
     "execution_count": 5,
     "metadata": {},
     "output_type": "execute_result"
    }
   ],
   "source": [
    "df_car.isnull().sum() # Verificando valores nulos"
   ]
  },
  {
   "cell_type": "code",
   "execution_count": 6,
   "id": "61ae7a4c",
   "metadata": {},
   "outputs": [
    {
     "data": {
      "application/vnd.microsoft.datawrangler.viewer.v0+json": {
       "columns": [
        {
         "name": "index",
         "rawType": "object",
         "type": "string"
        },
        {
         "name": "price",
         "rawType": "float64",
         "type": "float"
        },
        {
         "name": "model_year",
         "rawType": "float64",
         "type": "float"
        },
        {
         "name": "cylinders",
         "rawType": "float64",
         "type": "float"
        },
        {
         "name": "odometer",
         "rawType": "float64",
         "type": "float"
        },
        {
         "name": "is_4wd",
         "rawType": "float64",
         "type": "float"
        },
        {
         "name": "days_listed",
         "rawType": "float64",
         "type": "float"
        }
       ],
       "ref": "6f397c9e-4874-439f-af33-a700dfcdf7da",
       "rows": [
        [
         "count",
         "51525.0",
         "47906.0",
         "46265.0",
         "43633.0",
         "25572.0",
         "51525.0"
        ],
        [
         "mean",
         "12132.464919941776",
         "2009.75046966977",
         "6.125235058899817",
         "115553.4617376756",
         "1.0",
         "39.55475982532751"
        ],
        [
         "std",
         "10040.803015443298",
         "6.282064792174014",
         "1.6603600581926192",
         "65094.61134070973",
         "0.0",
         "28.20426987057806"
        ],
        [
         "min",
         "1.0",
         "1908.0",
         "3.0",
         "0.0",
         "1.0",
         "0.0"
        ],
        [
         "25%",
         "5000.0",
         "2006.0",
         "4.0",
         "70000.0",
         "1.0",
         "19.0"
        ],
        [
         "50%",
         "9000.0",
         "2011.0",
         "6.0",
         "113000.0",
         "1.0",
         "33.0"
        ],
        [
         "75%",
         "16839.0",
         "2014.0",
         "8.0",
         "155000.0",
         "1.0",
         "53.0"
        ],
        [
         "max",
         "375000.0",
         "2019.0",
         "12.0",
         "990000.0",
         "1.0",
         "271.0"
        ]
       ],
       "shape": {
        "columns": 6,
        "rows": 8
       }
      },
      "text/html": [
       "<div>\n",
       "<style scoped>\n",
       "    .dataframe tbody tr th:only-of-type {\n",
       "        vertical-align: middle;\n",
       "    }\n",
       "\n",
       "    .dataframe tbody tr th {\n",
       "        vertical-align: top;\n",
       "    }\n",
       "\n",
       "    .dataframe thead th {\n",
       "        text-align: right;\n",
       "    }\n",
       "</style>\n",
       "<table border=\"1\" class=\"dataframe\">\n",
       "  <thead>\n",
       "    <tr style=\"text-align: right;\">\n",
       "      <th></th>\n",
       "      <th>price</th>\n",
       "      <th>model_year</th>\n",
       "      <th>cylinders</th>\n",
       "      <th>odometer</th>\n",
       "      <th>is_4wd</th>\n",
       "      <th>days_listed</th>\n",
       "    </tr>\n",
       "  </thead>\n",
       "  <tbody>\n",
       "    <tr>\n",
       "      <th>count</th>\n",
       "      <td>51525.000000</td>\n",
       "      <td>47906.000000</td>\n",
       "      <td>46265.000000</td>\n",
       "      <td>43633.000000</td>\n",
       "      <td>25572.0</td>\n",
       "      <td>51525.00000</td>\n",
       "    </tr>\n",
       "    <tr>\n",
       "      <th>mean</th>\n",
       "      <td>12132.464920</td>\n",
       "      <td>2009.750470</td>\n",
       "      <td>6.125235</td>\n",
       "      <td>115553.461738</td>\n",
       "      <td>1.0</td>\n",
       "      <td>39.55476</td>\n",
       "    </tr>\n",
       "    <tr>\n",
       "      <th>std</th>\n",
       "      <td>10040.803015</td>\n",
       "      <td>6.282065</td>\n",
       "      <td>1.660360</td>\n",
       "      <td>65094.611341</td>\n",
       "      <td>0.0</td>\n",
       "      <td>28.20427</td>\n",
       "    </tr>\n",
       "    <tr>\n",
       "      <th>min</th>\n",
       "      <td>1.000000</td>\n",
       "      <td>1908.000000</td>\n",
       "      <td>3.000000</td>\n",
       "      <td>0.000000</td>\n",
       "      <td>1.0</td>\n",
       "      <td>0.00000</td>\n",
       "    </tr>\n",
       "    <tr>\n",
       "      <th>25%</th>\n",
       "      <td>5000.000000</td>\n",
       "      <td>2006.000000</td>\n",
       "      <td>4.000000</td>\n",
       "      <td>70000.000000</td>\n",
       "      <td>1.0</td>\n",
       "      <td>19.00000</td>\n",
       "    </tr>\n",
       "    <tr>\n",
       "      <th>50%</th>\n",
       "      <td>9000.000000</td>\n",
       "      <td>2011.000000</td>\n",
       "      <td>6.000000</td>\n",
       "      <td>113000.000000</td>\n",
       "      <td>1.0</td>\n",
       "      <td>33.00000</td>\n",
       "    </tr>\n",
       "    <tr>\n",
       "      <th>75%</th>\n",
       "      <td>16839.000000</td>\n",
       "      <td>2014.000000</td>\n",
       "      <td>8.000000</td>\n",
       "      <td>155000.000000</td>\n",
       "      <td>1.0</td>\n",
       "      <td>53.00000</td>\n",
       "    </tr>\n",
       "    <tr>\n",
       "      <th>max</th>\n",
       "      <td>375000.000000</td>\n",
       "      <td>2019.000000</td>\n",
       "      <td>12.000000</td>\n",
       "      <td>990000.000000</td>\n",
       "      <td>1.0</td>\n",
       "      <td>271.00000</td>\n",
       "    </tr>\n",
       "  </tbody>\n",
       "</table>\n",
       "</div>"
      ],
      "text/plain": [
       "               price    model_year     cylinders       odometer   is_4wd  \\\n",
       "count   51525.000000  47906.000000  46265.000000   43633.000000  25572.0   \n",
       "mean    12132.464920   2009.750470      6.125235  115553.461738      1.0   \n",
       "std     10040.803015      6.282065      1.660360   65094.611341      0.0   \n",
       "min         1.000000   1908.000000      3.000000       0.000000      1.0   \n",
       "25%      5000.000000   2006.000000      4.000000   70000.000000      1.0   \n",
       "50%      9000.000000   2011.000000      6.000000  113000.000000      1.0   \n",
       "75%     16839.000000   2014.000000      8.000000  155000.000000      1.0   \n",
       "max    375000.000000   2019.000000     12.000000  990000.000000      1.0   \n",
       "\n",
       "       days_listed  \n",
       "count  51525.00000  \n",
       "mean      39.55476  \n",
       "std       28.20427  \n",
       "min        0.00000  \n",
       "25%       19.00000  \n",
       "50%       33.00000  \n",
       "75%       53.00000  \n",
       "max      271.00000  "
      ]
     },
     "execution_count": 6,
     "metadata": {},
     "output_type": "execute_result"
    }
   ],
   "source": [
    "df_car.describe() # Verificando estatísticas descritivas"
   ]
  },
  {
   "cell_type": "code",
   "execution_count": 7,
   "id": "98f7c488",
   "metadata": {},
   "outputs": [],
   "source": [
    "df_car = df_car[df_car['price'].notnull() & (df_car['price'] >= 150)] # Filtrando valores não nulos \n",
    "# Garantindo que fique os valores acima de 150\n"
   ]
  },
  {
   "cell_type": "code",
   "execution_count": 8,
   "id": "c0bab4a9",
   "metadata": {},
   "outputs": [],
   "source": [
    "df_car['is_4wd'] = df_car['is_4wd'].astype('bool') # Convertendo a coluna is_4wd para booleano\n",
    "df_car['is_4wd'] = df_car['is_4wd'].fillna(0) # Preenchendo valores nulos com 0"
   ]
  },
  {
   "cell_type": "code",
   "execution_count": 9,
   "id": "da6c8bdc",
   "metadata": {},
   "outputs": [],
   "source": [
    "df_car['cylinders'] = df_car.groupby('cylinders')['cylinders'].transform(lambda x: x.fillna(x.median())) # Preenchendo valores nulos com a moda"
   ]
  },
  {
   "cell_type": "code",
   "execution_count": 10,
   "id": "393ab19d",
   "metadata": {},
   "outputs": [],
   "source": [
    "df_car['cylinders'] = df_car['cylinders'].fillna(df_car['cylinders'].median()) # Preenchendo valores nulos com a mediana"
   ]
  },
  {
   "cell_type": "code",
   "execution_count": 11,
   "id": "f5c7bd2d",
   "metadata": {},
   "outputs": [
    {
     "name": "stdout",
     "output_type": "stream",
     "text": [
      "[np.float64(2011.0), np.float64(nan), np.float64(1908.0), np.float64(1929.0), np.float64(1936.0), np.float64(1948.0), np.float64(1949.0), np.float64(1954.0), np.float64(1955.0), np.float64(1958.0), np.float64(1960.0), np.float64(1961.0), np.float64(1962.0), np.float64(1963.0), np.float64(1964.0), np.float64(1965.0), np.float64(1966.0), np.float64(1967.0), np.float64(1968.0), np.float64(1969.0), np.float64(1970.0), np.float64(1971.0), np.float64(1972.0), np.float64(1973.0), np.float64(1974.0), np.float64(1975.0), np.float64(1976.0), np.float64(1977.0), np.float64(1978.0), np.float64(1979.0), np.float64(1980.0), np.float64(1981.0), np.float64(1982.0), np.float64(1983.0), np.float64(1984.0), np.float64(1985.0), np.float64(1986.0), np.float64(1987.0), np.float64(1988.0), np.float64(1989.0), np.float64(1990.0), np.float64(1991.0), np.float64(1992.0), np.float64(1993.0), np.float64(1994.0), np.float64(1995.0), np.float64(1996.0), np.float64(1997.0), np.float64(1998.0), np.float64(1999.0), np.float64(2000.0), np.float64(2001.0), np.float64(2002.0), np.float64(2003.0), np.float64(2004.0), np.float64(2005.0), np.float64(2006.0), np.float64(2007.0), np.float64(2008.0), np.float64(2009.0), np.float64(2010.0), np.float64(2012.0), np.float64(2013.0), np.float64(2014.0), np.float64(2015.0), np.float64(2016.0), np.float64(2017.0), np.float64(2018.0), np.float64(2019.0)]\n"
     ]
    }
   ],
   "source": [
    "print(sorted(df_car['model_year'].unique())) # Verificando os anos dos modelos"
   ]
  },
  {
   "cell_type": "code",
   "execution_count": 12,
   "id": "840fe98d",
   "metadata": {},
   "outputs": [],
   "source": [
    "mediana_model_year = df_car['model_year'].median() # Calculando a mediana\n",
    "df_car.fillna({'model_year': mediana_model_year}, inplace=True) # Preenchendo valores nulos com a mediana"
   ]
  },
  {
   "cell_type": "code",
   "execution_count": 13,
   "id": "a8e866d0",
   "metadata": {},
   "outputs": [
    {
     "data": {
      "text/plain": [
       "np.int64(7752)"
      ]
     },
     "execution_count": 13,
     "metadata": {},
     "output_type": "execute_result"
    }
   ],
   "source": [
    "df_car['odometer'].isnull().sum() # Verificando valores nulos"
   ]
  },
  {
   "cell_type": "code",
   "execution_count": 14,
   "id": "538a43b3",
   "metadata": {},
   "outputs": [],
   "source": [
    "media_odometer = df_car['odometer'].mean() * 0.5 # Calculando a média\n",
    "df_car.fillna({'odometer' : media_odometer}, inplace=True) # Preenchendo valores nulos com a média"
   ]
  },
  {
   "cell_type": "code",
   "execution_count": 15,
   "id": "1749113d",
   "metadata": {},
   "outputs": [],
   "source": [
    "total_duplicados = df_car.duplicated().sum() # Verificando valores duplicados\n",
    "if total_duplicados > 0:\n",
    "    df_car.drop_duplicates(inplace=True) # Removendo valores duplicados\n",
    "    print(f'{total_duplicados} duplicados removidos')"
   ]
  },
  {
   "cell_type": "code",
   "execution_count": 16,
   "id": "7d2d66bf",
   "metadata": {},
   "outputs": [
    {
     "data": {
      "text/plain": [
       "np.int64(0)"
      ]
     },
     "execution_count": 16,
     "metadata": {},
     "output_type": "execute_result"
    }
   ],
   "source": [
    "df_car.duplicated().sum() # Verificando valores duplicados novamente"
   ]
  },
  {
   "cell_type": "code",
   "execution_count": 17,
   "id": "5e6bffc0",
   "metadata": {},
   "outputs": [
    {
     "data": {
      "text/plain": [
       "np.int64(9095)"
      ]
     },
     "execution_count": 17,
     "metadata": {},
     "output_type": "execute_result"
    }
   ],
   "source": [
    "df_car['paint_color'].isnull().sum() # Verificando valores nulos    "
   ]
  },
  {
   "cell_type": "code",
   "execution_count": 20,
   "id": "3f4f1b9b",
   "metadata": {},
   "outputs": [
    {
     "data": {
      "text/plain": [
       "np.int64(0)"
      ]
     },
     "execution_count": 20,
     "metadata": {},
     "output_type": "execute_result"
    }
   ],
   "source": [
    "df_car.fillna({'unknown': df_car['paint_color']}, inplace=True) # Preenchendo valores nulos com unknown\n",
    "df_car['paint_color'].isnull().sum() # Verificando valores nulos novamente"
   ]
  },
  {
   "cell_type": "code",
   "execution_count": 19,
   "id": "e9bce333",
   "metadata": {},
   "outputs": [
    {
     "name": "stdout",
     "output_type": "stream",
     "text": [
      "<class 'pandas.core.frame.DataFrame'>\n",
      "Index: 50659 entries, 0 to 51524\n",
      "Data columns (total 13 columns):\n",
      " #   Column        Non-Null Count  Dtype  \n",
      "---  ------        --------------  -----  \n",
      " 0   price         50659 non-null  int64  \n",
      " 1   model_year    50659 non-null  float64\n",
      " 2   model         50659 non-null  object \n",
      " 3   condition     50659 non-null  object \n",
      " 4   cylinders     50659 non-null  float64\n",
      " 5   fuel          50659 non-null  object \n",
      " 6   odometer      50659 non-null  float64\n",
      " 7   transmission  50659 non-null  object \n",
      " 8   type          50659 non-null  object \n",
      " 9   paint_color   50659 non-null  object \n",
      " 10  is_4wd        50659 non-null  bool   \n",
      " 11  date_posted   50659 non-null  object \n",
      " 12  days_listed   50659 non-null  int64  \n",
      "dtypes: bool(1), float64(3), int64(2), object(7)\n",
      "memory usage: 5.1+ MB\n"
     ]
    }
   ],
   "source": [
    "df_car.info() # Verificando os tipos de dados novamente"
   ]
  },
  {
   "cell_type": "markdown",
   "id": "7600b0ba",
   "metadata": {},
   "source": [
    "## DataFrame limpo "
   ]
  },
  {
   "cell_type": "code",
   "execution_count": 21,
   "id": "b597b105",
   "metadata": {},
   "outputs": [],
   "source": [
    "df_car.to_csv('df_car.csv', index=False) # Salvando o dataframe em um arquivo CSV"
   ]
  }
 ],
 "metadata": {
  "kernelspec": {
   "display_name": "proj_5",
   "language": "python",
   "name": "python3"
  },
  "language_info": {
   "codemirror_mode": {
    "name": "ipython",
    "version": 3
   },
   "file_extension": ".py",
   "mimetype": "text/x-python",
   "name": "python",
   "nbconvert_exporter": "python",
   "pygments_lexer": "ipython3",
   "version": "3.13.2"
  }
 },
 "nbformat": 4,
 "nbformat_minor": 5
}
